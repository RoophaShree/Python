{
 "cells": [
  {
   "cell_type": "markdown",
   "metadata": {},
   "source": [
    "#### PROJECT 1 NOTEBOOK\n",
    "\n",
    "Text of Proposal:\n",
    "\n",
    "Data Link: https://catalog.data.gov/dataset/employee-salaries-2016\n",
    "\n",
    "Annual salary information including gross pay and overtime pay for all active, permanent employees of Montgomery County, MD paid in calendar year 2016. This information will be published annually, by the end of January each year.\n",
    "\n",
    "DATA DISCOVERY: -I was going through the data sources that is posted in Blackboard and then later was just googling for few other data sets and found this is interesting regarding Montgomery County of Maryland Employee Salaries - 2016. Since I had the work expereince back in India and this data I found is related to it and I can analyse about the data and requirements hence I choose this data. Also, I always had this thought of how company removes the employee and this is something related to it, by analysing their work, pay, Job title this can be done. All these paarmeters made me choose this data. \n",
    "\n",
    "Documented Exploratory Data Analysis is not available for the data: There is no EDA document present for the dataset.\n",
    "\n",
    "Size of the Data:\n",
    "-Number of Rows: 9229\n",
    "-Number of Columns : 12\n",
    "-Size: 1.42 MB\n"
   ]
  },
  {
   "cell_type": "code",
   "execution_count": 9,
   "metadata": {},
   "outputs": [
    {
     "name": "stdout",
     "output_type": "stream",
     "text": [
      "pd 0.25.1\n"
     ]
    }
   ],
   "source": [
    "import matplotlib.pyplot as plt\n",
    "import seaborn as sns\n",
    "import numpy as np\n",
    "import pandas\n",
    "print('pd',pd.__version__)"
   ]
  },
  {
   "cell_type": "markdown",
   "metadata": {},
   "source": [
    "#### Firstly,we need to load the data into a dataframe and saved in \"emp\"\n",
    "\n",
    "#### Then,By using dataframe.shape we can find the size of the dataset like (rows,columns)"
   ]
  },
  {
   "cell_type": "code",
   "execution_count": 10,
   "metadata": {},
   "outputs": [
    {
     "data": {
      "text/plain": [
       "(9228, 12)"
      ]
     },
     "execution_count": 10,
     "metadata": {},
     "output_type": "execute_result"
    }
   ],
   "source": [
    "emp = pandas.read_csv('Employee_Salaries.csv')\n",
    "emp.shape"
   ]
  },
  {
   "cell_type": "markdown",
   "metadata": {},
   "source": [
    "#### We can remove duplicates by using dataframe.drop_duplicates() to clean the data if any duplicates are present in the data."
   ]
  },
  {
   "cell_type": "code",
   "execution_count": 11,
   "metadata": {},
   "outputs": [
    {
     "data": {
      "text/html": [
       "<div>\n",
       "<style scoped>\n",
       "    .dataframe tbody tr th:only-of-type {\n",
       "        vertical-align: middle;\n",
       "    }\n",
       "\n",
       "    .dataframe tbody tr th {\n",
       "        vertical-align: top;\n",
       "    }\n",
       "\n",
       "    .dataframe thead th {\n",
       "        text-align: right;\n",
       "    }\n",
       "</style>\n",
       "<table border=\"1\" class=\"dataframe\">\n",
       "  <thead>\n",
       "    <tr style=\"text-align: right;\">\n",
       "      <th></th>\n",
       "      <th>Full Name</th>\n",
       "      <th>Gender</th>\n",
       "      <th>Current Annual Salary</th>\n",
       "      <th>2016 Gross Pay Received</th>\n",
       "      <th>2016 Overtime Pay</th>\n",
       "      <th>Department</th>\n",
       "      <th>Department Name</th>\n",
       "      <th>Division</th>\n",
       "      <th>Assignment Category</th>\n",
       "      <th>Employee Position Title</th>\n",
       "      <th>Underfilled Job Title</th>\n",
       "      <th>Date First Hired</th>\n",
       "    </tr>\n",
       "  </thead>\n",
       "  <tbody>\n",
       "    <tr>\n",
       "      <td>0</td>\n",
       "      <td>Aarhus, Pam J.</td>\n",
       "      <td>F</td>\n",
       "      <td>69222.18</td>\n",
       "      <td>71225.98</td>\n",
       "      <td>416.10</td>\n",
       "      <td>POL</td>\n",
       "      <td>Department of Police</td>\n",
       "      <td>MSB Information Mgmt and Tech Division Records...</td>\n",
       "      <td>Fulltime-Regular</td>\n",
       "      <td>Office Services Coordinator</td>\n",
       "      <td>NaN</td>\n",
       "      <td>9/22/1986</td>\n",
       "    </tr>\n",
       "    <tr>\n",
       "      <td>1</td>\n",
       "      <td>Aaron, David J.</td>\n",
       "      <td>M</td>\n",
       "      <td>97392.47</td>\n",
       "      <td>103088.48</td>\n",
       "      <td>3326.19</td>\n",
       "      <td>POL</td>\n",
       "      <td>Department of Police</td>\n",
       "      <td>ISB Major Crimes Division Fugitive Section</td>\n",
       "      <td>Fulltime-Regular</td>\n",
       "      <td>Master Police Officer</td>\n",
       "      <td>NaN</td>\n",
       "      <td>9/12/1988</td>\n",
       "    </tr>\n",
       "    <tr>\n",
       "      <td>2</td>\n",
       "      <td>Aaron, Marsha M.</td>\n",
       "      <td>F</td>\n",
       "      <td>104717.28</td>\n",
       "      <td>107000.24</td>\n",
       "      <td>1353.32</td>\n",
       "      <td>HHS</td>\n",
       "      <td>Department of Health and Human Services</td>\n",
       "      <td>Adult Protective and Case Management Services</td>\n",
       "      <td>Fulltime-Regular</td>\n",
       "      <td>Social Worker IV</td>\n",
       "      <td>NaN</td>\n",
       "      <td>11/19/1989</td>\n",
       "    </tr>\n",
       "    <tr>\n",
       "      <td>3</td>\n",
       "      <td>Ababio, Godfred A.</td>\n",
       "      <td>M</td>\n",
       "      <td>52734.57</td>\n",
       "      <td>57819.04</td>\n",
       "      <td>3423.07</td>\n",
       "      <td>COR</td>\n",
       "      <td>Correction and Rehabilitation</td>\n",
       "      <td>PRRS Facility and Security</td>\n",
       "      <td>Fulltime-Regular</td>\n",
       "      <td>Resident Supervisor II</td>\n",
       "      <td>NaN</td>\n",
       "      <td>5/5/2014</td>\n",
       "    </tr>\n",
       "    <tr>\n",
       "      <td>4</td>\n",
       "      <td>Ababu, Essayas</td>\n",
       "      <td>M</td>\n",
       "      <td>93396.00</td>\n",
       "      <td>95815.17</td>\n",
       "      <td>NaN</td>\n",
       "      <td>HCA</td>\n",
       "      <td>Department of Housing and Community Affairs</td>\n",
       "      <td>Affordable Housing Programs</td>\n",
       "      <td>Fulltime-Regular</td>\n",
       "      <td>Planning Specialist III</td>\n",
       "      <td>NaN</td>\n",
       "      <td>3/5/2007</td>\n",
       "    </tr>\n",
       "    <tr>\n",
       "      <td>...</td>\n",
       "      <td>...</td>\n",
       "      <td>...</td>\n",
       "      <td>...</td>\n",
       "      <td>...</td>\n",
       "      <td>...</td>\n",
       "      <td>...</td>\n",
       "      <td>...</td>\n",
       "      <td>...</td>\n",
       "      <td>...</td>\n",
       "      <td>...</td>\n",
       "      <td>...</td>\n",
       "      <td>...</td>\n",
       "    </tr>\n",
       "    <tr>\n",
       "      <td>9223</td>\n",
       "      <td>Zurita, Justina</td>\n",
       "      <td>F</td>\n",
       "      <td>72094.53</td>\n",
       "      <td>58154.47</td>\n",
       "      <td>NaN</td>\n",
       "      <td>HHS</td>\n",
       "      <td>Department of Health and Human Services</td>\n",
       "      <td>School Based Health Centers</td>\n",
       "      <td>Fulltime-Regular</td>\n",
       "      <td>Community Health Nurse II</td>\n",
       "      <td>NaN</td>\n",
       "      <td>11/3/2015</td>\n",
       "    </tr>\n",
       "    <tr>\n",
       "      <td>9224</td>\n",
       "      <td>Zuspan, Diane M.</td>\n",
       "      <td>F</td>\n",
       "      <td>169543.85</td>\n",
       "      <td>173173.01</td>\n",
       "      <td>956.97</td>\n",
       "      <td>FRS</td>\n",
       "      <td>Fire and Rescue Services</td>\n",
       "      <td>Human Resources Division</td>\n",
       "      <td>Fulltime-Regular</td>\n",
       "      <td>Fire/Rescue Division Chief</td>\n",
       "      <td>NaN</td>\n",
       "      <td>11/28/1988</td>\n",
       "    </tr>\n",
       "    <tr>\n",
       "      <td>9225</td>\n",
       "      <td>Zwerdling, David</td>\n",
       "      <td>M</td>\n",
       "      <td>102736.52</td>\n",
       "      <td>104238.18</td>\n",
       "      <td>NaN</td>\n",
       "      <td>HHS</td>\n",
       "      <td>Department of Health and Human Services</td>\n",
       "      <td>Child and Adolescent Mental Health Clinic Serv...</td>\n",
       "      <td>Parttime-Regular</td>\n",
       "      <td>Medical Doctor IV - Psychiatrist</td>\n",
       "      <td>NaN</td>\n",
       "      <td>4/30/2001</td>\n",
       "    </tr>\n",
       "    <tr>\n",
       "      <td>9226</td>\n",
       "      <td>Zyontz, Jeffrey L.</td>\n",
       "      <td>M</td>\n",
       "      <td>153747.50</td>\n",
       "      <td>149105.25</td>\n",
       "      <td>NaN</td>\n",
       "      <td>CCL</td>\n",
       "      <td>County Council</td>\n",
       "      <td>Council Central Staff</td>\n",
       "      <td>Fulltime-Regular</td>\n",
       "      <td>Manager II</td>\n",
       "      <td>NaN</td>\n",
       "      <td>9/5/2006</td>\n",
       "    </tr>\n",
       "    <tr>\n",
       "      <td>9227</td>\n",
       "      <td>Zywiolek, Tim R.</td>\n",
       "      <td>M</td>\n",
       "      <td>75484.08</td>\n",
       "      <td>74975.53</td>\n",
       "      <td>NaN</td>\n",
       "      <td>DLC</td>\n",
       "      <td>Department of Liquor Control</td>\n",
       "      <td>Licensure, Regulation and Education</td>\n",
       "      <td>Fulltime-Regular</td>\n",
       "      <td>Alcohol/Tobacco Enforcement Specialist II</td>\n",
       "      <td>NaN</td>\n",
       "      <td>1/30/2012</td>\n",
       "    </tr>\n",
       "  </tbody>\n",
       "</table>\n",
       "<p>9228 rows × 12 columns</p>\n",
       "</div>"
      ],
      "text/plain": [
       "               Full Name Gender  Current Annual Salary  \\\n",
       "0         Aarhus, Pam J.      F               69222.18   \n",
       "1        Aaron, David J.      M               97392.47   \n",
       "2       Aaron, Marsha M.      F              104717.28   \n",
       "3     Ababio, Godfred A.      M               52734.57   \n",
       "4         Ababu, Essayas      M               93396.00   \n",
       "...                  ...    ...                    ...   \n",
       "9223     Zurita, Justina      F               72094.53   \n",
       "9224    Zuspan, Diane M.      F              169543.85   \n",
       "9225    Zwerdling, David      M              102736.52   \n",
       "9226  Zyontz, Jeffrey L.      M              153747.50   \n",
       "9227    Zywiolek, Tim R.      M               75484.08   \n",
       "\n",
       "      2016 Gross Pay Received  2016 Overtime Pay Department  \\\n",
       "0                    71225.98             416.10        POL   \n",
       "1                   103088.48            3326.19        POL   \n",
       "2                   107000.24            1353.32        HHS   \n",
       "3                    57819.04            3423.07        COR   \n",
       "4                    95815.17                NaN        HCA   \n",
       "...                       ...                ...        ...   \n",
       "9223                 58154.47                NaN        HHS   \n",
       "9224                173173.01             956.97        FRS   \n",
       "9225                104238.18                NaN        HHS   \n",
       "9226                149105.25                NaN        CCL   \n",
       "9227                 74975.53                NaN        DLC   \n",
       "\n",
       "                                  Department Name  \\\n",
       "0                            Department of Police   \n",
       "1                            Department of Police   \n",
       "2         Department of Health and Human Services   \n",
       "3                   Correction and Rehabilitation   \n",
       "4     Department of Housing and Community Affairs   \n",
       "...                                           ...   \n",
       "9223      Department of Health and Human Services   \n",
       "9224                     Fire and Rescue Services   \n",
       "9225      Department of Health and Human Services   \n",
       "9226                               County Council   \n",
       "9227                 Department of Liquor Control   \n",
       "\n",
       "                                               Division Assignment Category  \\\n",
       "0     MSB Information Mgmt and Tech Division Records...    Fulltime-Regular   \n",
       "1            ISB Major Crimes Division Fugitive Section    Fulltime-Regular   \n",
       "2         Adult Protective and Case Management Services    Fulltime-Regular   \n",
       "3                            PRRS Facility and Security    Fulltime-Regular   \n",
       "4                           Affordable Housing Programs    Fulltime-Regular   \n",
       "...                                                 ...                 ...   \n",
       "9223                        School Based Health Centers    Fulltime-Regular   \n",
       "9224                           Human Resources Division    Fulltime-Regular   \n",
       "9225  Child and Adolescent Mental Health Clinic Serv...    Parttime-Regular   \n",
       "9226                              Council Central Staff    Fulltime-Regular   \n",
       "9227                Licensure, Regulation and Education    Fulltime-Regular   \n",
       "\n",
       "                        Employee Position Title Underfilled Job Title  \\\n",
       "0                   Office Services Coordinator                   NaN   \n",
       "1                         Master Police Officer                   NaN   \n",
       "2                              Social Worker IV                   NaN   \n",
       "3                        Resident Supervisor II                   NaN   \n",
       "4                       Planning Specialist III                   NaN   \n",
       "...                                         ...                   ...   \n",
       "9223                  Community Health Nurse II                   NaN   \n",
       "9224                 Fire/Rescue Division Chief                   NaN   \n",
       "9225           Medical Doctor IV - Psychiatrist                   NaN   \n",
       "9226                                 Manager II                   NaN   \n",
       "9227  Alcohol/Tobacco Enforcement Specialist II                   NaN   \n",
       "\n",
       "     Date First Hired  \n",
       "0           9/22/1986  \n",
       "1           9/12/1988  \n",
       "2          11/19/1989  \n",
       "3            5/5/2014  \n",
       "4            3/5/2007  \n",
       "...               ...  \n",
       "9223        11/3/2015  \n",
       "9224       11/28/1988  \n",
       "9225        4/30/2001  \n",
       "9226         9/5/2006  \n",
       "9227        1/30/2012  \n",
       "\n",
       "[9228 rows x 12 columns]"
      ]
     },
     "execution_count": 11,
     "metadata": {},
     "output_type": "execute_result"
    }
   ],
   "source": [
    "empdet=emp.drop_duplicates()\n",
    "empdet"
   ]
  },
  {
   "cell_type": "markdown",
   "metadata": {},
   "source": [
    "#### After removing the duplicates we can check that if duplicates are present or not by finding the size of the data.If both the data sizes are same then it represent that there is no duplicates in the data set.In my dataset there is no duplicates are present."
   ]
  },
  {
   "cell_type": "code",
   "execution_count": 12,
   "metadata": {},
   "outputs": [
    {
     "data": {
      "text/plain": [
       "(9228, 12)"
      ]
     },
     "execution_count": 12,
     "metadata": {},
     "output_type": "execute_result"
    }
   ],
   "source": [
    "empdet.shape"
   ]
  },
  {
   "cell_type": "code",
   "execution_count": 13,
   "metadata": {},
   "outputs": [
    {
     "data": {
      "text/html": [
       "<div>\n",
       "<style scoped>\n",
       "    .dataframe tbody tr th:only-of-type {\n",
       "        vertical-align: middle;\n",
       "    }\n",
       "\n",
       "    .dataframe tbody tr th {\n",
       "        vertical-align: top;\n",
       "    }\n",
       "\n",
       "    .dataframe thead th {\n",
       "        text-align: right;\n",
       "    }\n",
       "</style>\n",
       "<table border=\"1\" class=\"dataframe\">\n",
       "  <thead>\n",
       "    <tr style=\"text-align: right;\">\n",
       "      <th></th>\n",
       "      <th>Full Name</th>\n",
       "      <th>Gender</th>\n",
       "      <th>Current Annual Salary</th>\n",
       "      <th>2016 Gross Pay Received</th>\n",
       "      <th>2016 Overtime Pay</th>\n",
       "      <th>Department</th>\n",
       "      <th>Department Name</th>\n",
       "      <th>Division</th>\n",
       "      <th>Assignment Category</th>\n",
       "      <th>Employee Position Title</th>\n",
       "      <th>Underfilled Job Title</th>\n",
       "      <th>Date First Hired</th>\n",
       "    </tr>\n",
       "  </thead>\n",
       "  <tbody>\n",
       "    <tr>\n",
       "      <td>0</td>\n",
       "      <td>Aarhus, Pam J.</td>\n",
       "      <td>F</td>\n",
       "      <td>69222.18</td>\n",
       "      <td>71225.98</td>\n",
       "      <td>416.10</td>\n",
       "      <td>POL</td>\n",
       "      <td>Department of Police</td>\n",
       "      <td>MSB Information Mgmt and Tech Division Records...</td>\n",
       "      <td>Fulltime-Regular</td>\n",
       "      <td>Office Services Coordinator</td>\n",
       "      <td>NaN</td>\n",
       "      <td>9/22/1986</td>\n",
       "    </tr>\n",
       "    <tr>\n",
       "      <td>1</td>\n",
       "      <td>Aaron, David J.</td>\n",
       "      <td>M</td>\n",
       "      <td>97392.47</td>\n",
       "      <td>103088.48</td>\n",
       "      <td>3326.19</td>\n",
       "      <td>POL</td>\n",
       "      <td>Department of Police</td>\n",
       "      <td>ISB Major Crimes Division Fugitive Section</td>\n",
       "      <td>Fulltime-Regular</td>\n",
       "      <td>Master Police Officer</td>\n",
       "      <td>NaN</td>\n",
       "      <td>9/12/1988</td>\n",
       "    </tr>\n",
       "    <tr>\n",
       "      <td>2</td>\n",
       "      <td>Aaron, Marsha M.</td>\n",
       "      <td>F</td>\n",
       "      <td>104717.28</td>\n",
       "      <td>107000.24</td>\n",
       "      <td>1353.32</td>\n",
       "      <td>HHS</td>\n",
       "      <td>Department of Health and Human Services</td>\n",
       "      <td>Adult Protective and Case Management Services</td>\n",
       "      <td>Fulltime-Regular</td>\n",
       "      <td>Social Worker IV</td>\n",
       "      <td>NaN</td>\n",
       "      <td>11/19/1989</td>\n",
       "    </tr>\n",
       "    <tr>\n",
       "      <td>3</td>\n",
       "      <td>Ababio, Godfred A.</td>\n",
       "      <td>M</td>\n",
       "      <td>52734.57</td>\n",
       "      <td>57819.04</td>\n",
       "      <td>3423.07</td>\n",
       "      <td>COR</td>\n",
       "      <td>Correction and Rehabilitation</td>\n",
       "      <td>PRRS Facility and Security</td>\n",
       "      <td>Fulltime-Regular</td>\n",
       "      <td>Resident Supervisor II</td>\n",
       "      <td>NaN</td>\n",
       "      <td>5/5/2014</td>\n",
       "    </tr>\n",
       "    <tr>\n",
       "      <td>4</td>\n",
       "      <td>Ababu, Essayas</td>\n",
       "      <td>M</td>\n",
       "      <td>93396.00</td>\n",
       "      <td>95815.17</td>\n",
       "      <td>NaN</td>\n",
       "      <td>HCA</td>\n",
       "      <td>Department of Housing and Community Affairs</td>\n",
       "      <td>Affordable Housing Programs</td>\n",
       "      <td>Fulltime-Regular</td>\n",
       "      <td>Planning Specialist III</td>\n",
       "      <td>NaN</td>\n",
       "      <td>3/5/2007</td>\n",
       "    </tr>\n",
       "    <tr>\n",
       "      <td>...</td>\n",
       "      <td>...</td>\n",
       "      <td>...</td>\n",
       "      <td>...</td>\n",
       "      <td>...</td>\n",
       "      <td>...</td>\n",
       "      <td>...</td>\n",
       "      <td>...</td>\n",
       "      <td>...</td>\n",
       "      <td>...</td>\n",
       "      <td>...</td>\n",
       "      <td>...</td>\n",
       "      <td>...</td>\n",
       "    </tr>\n",
       "    <tr>\n",
       "      <td>9223</td>\n",
       "      <td>Zurita, Justina</td>\n",
       "      <td>F</td>\n",
       "      <td>72094.53</td>\n",
       "      <td>58154.47</td>\n",
       "      <td>NaN</td>\n",
       "      <td>HHS</td>\n",
       "      <td>Department of Health and Human Services</td>\n",
       "      <td>School Based Health Centers</td>\n",
       "      <td>Fulltime-Regular</td>\n",
       "      <td>Community Health Nurse II</td>\n",
       "      <td>NaN</td>\n",
       "      <td>11/3/2015</td>\n",
       "    </tr>\n",
       "    <tr>\n",
       "      <td>9224</td>\n",
       "      <td>Zuspan, Diane M.</td>\n",
       "      <td>F</td>\n",
       "      <td>169543.85</td>\n",
       "      <td>173173.01</td>\n",
       "      <td>956.97</td>\n",
       "      <td>FRS</td>\n",
       "      <td>Fire and Rescue Services</td>\n",
       "      <td>Human Resources Division</td>\n",
       "      <td>Fulltime-Regular</td>\n",
       "      <td>Fire/Rescue Division Chief</td>\n",
       "      <td>NaN</td>\n",
       "      <td>11/28/1988</td>\n",
       "    </tr>\n",
       "    <tr>\n",
       "      <td>9225</td>\n",
       "      <td>Zwerdling, David</td>\n",
       "      <td>M</td>\n",
       "      <td>102736.52</td>\n",
       "      <td>104238.18</td>\n",
       "      <td>NaN</td>\n",
       "      <td>HHS</td>\n",
       "      <td>Department of Health and Human Services</td>\n",
       "      <td>Child and Adolescent Mental Health Clinic Serv...</td>\n",
       "      <td>Parttime-Regular</td>\n",
       "      <td>Medical Doctor IV - Psychiatrist</td>\n",
       "      <td>NaN</td>\n",
       "      <td>4/30/2001</td>\n",
       "    </tr>\n",
       "    <tr>\n",
       "      <td>9226</td>\n",
       "      <td>Zyontz, Jeffrey L.</td>\n",
       "      <td>M</td>\n",
       "      <td>153747.50</td>\n",
       "      <td>149105.25</td>\n",
       "      <td>NaN</td>\n",
       "      <td>CCL</td>\n",
       "      <td>County Council</td>\n",
       "      <td>Council Central Staff</td>\n",
       "      <td>Fulltime-Regular</td>\n",
       "      <td>Manager II</td>\n",
       "      <td>NaN</td>\n",
       "      <td>9/5/2006</td>\n",
       "    </tr>\n",
       "    <tr>\n",
       "      <td>9227</td>\n",
       "      <td>Zywiolek, Tim R.</td>\n",
       "      <td>M</td>\n",
       "      <td>75484.08</td>\n",
       "      <td>74975.53</td>\n",
       "      <td>NaN</td>\n",
       "      <td>DLC</td>\n",
       "      <td>Department of Liquor Control</td>\n",
       "      <td>Licensure, Regulation and Education</td>\n",
       "      <td>Fulltime-Regular</td>\n",
       "      <td>Alcohol/Tobacco Enforcement Specialist II</td>\n",
       "      <td>NaN</td>\n",
       "      <td>1/30/2012</td>\n",
       "    </tr>\n",
       "  </tbody>\n",
       "</table>\n",
       "<p>9228 rows × 12 columns</p>\n",
       "</div>"
      ],
      "text/plain": [
       "               Full Name Gender  Current Annual Salary  \\\n",
       "0         Aarhus, Pam J.      F               69222.18   \n",
       "1        Aaron, David J.      M               97392.47   \n",
       "2       Aaron, Marsha M.      F              104717.28   \n",
       "3     Ababio, Godfred A.      M               52734.57   \n",
       "4         Ababu, Essayas      M               93396.00   \n",
       "...                  ...    ...                    ...   \n",
       "9223     Zurita, Justina      F               72094.53   \n",
       "9224    Zuspan, Diane M.      F              169543.85   \n",
       "9225    Zwerdling, David      M              102736.52   \n",
       "9226  Zyontz, Jeffrey L.      M              153747.50   \n",
       "9227    Zywiolek, Tim R.      M               75484.08   \n",
       "\n",
       "      2016 Gross Pay Received  2016 Overtime Pay Department  \\\n",
       "0                    71225.98             416.10        POL   \n",
       "1                   103088.48            3326.19        POL   \n",
       "2                   107000.24            1353.32        HHS   \n",
       "3                    57819.04            3423.07        COR   \n",
       "4                    95815.17                NaN        HCA   \n",
       "...                       ...                ...        ...   \n",
       "9223                 58154.47                NaN        HHS   \n",
       "9224                173173.01             956.97        FRS   \n",
       "9225                104238.18                NaN        HHS   \n",
       "9226                149105.25                NaN        CCL   \n",
       "9227                 74975.53                NaN        DLC   \n",
       "\n",
       "                                  Department Name  \\\n",
       "0                            Department of Police   \n",
       "1                            Department of Police   \n",
       "2         Department of Health and Human Services   \n",
       "3                   Correction and Rehabilitation   \n",
       "4     Department of Housing and Community Affairs   \n",
       "...                                           ...   \n",
       "9223      Department of Health and Human Services   \n",
       "9224                     Fire and Rescue Services   \n",
       "9225      Department of Health and Human Services   \n",
       "9226                               County Council   \n",
       "9227                 Department of Liquor Control   \n",
       "\n",
       "                                               Division Assignment Category  \\\n",
       "0     MSB Information Mgmt and Tech Division Records...    Fulltime-Regular   \n",
       "1            ISB Major Crimes Division Fugitive Section    Fulltime-Regular   \n",
       "2         Adult Protective and Case Management Services    Fulltime-Regular   \n",
       "3                            PRRS Facility and Security    Fulltime-Regular   \n",
       "4                           Affordable Housing Programs    Fulltime-Regular   \n",
       "...                                                 ...                 ...   \n",
       "9223                        School Based Health Centers    Fulltime-Regular   \n",
       "9224                           Human Resources Division    Fulltime-Regular   \n",
       "9225  Child and Adolescent Mental Health Clinic Serv...    Parttime-Regular   \n",
       "9226                              Council Central Staff    Fulltime-Regular   \n",
       "9227                Licensure, Regulation and Education    Fulltime-Regular   \n",
       "\n",
       "                        Employee Position Title Underfilled Job Title  \\\n",
       "0                   Office Services Coordinator                   NaN   \n",
       "1                         Master Police Officer                   NaN   \n",
       "2                              Social Worker IV                   NaN   \n",
       "3                        Resident Supervisor II                   NaN   \n",
       "4                       Planning Specialist III                   NaN   \n",
       "...                                         ...                   ...   \n",
       "9223                  Community Health Nurse II                   NaN   \n",
       "9224                 Fire/Rescue Division Chief                   NaN   \n",
       "9225           Medical Doctor IV - Psychiatrist                   NaN   \n",
       "9226                                 Manager II                   NaN   \n",
       "9227  Alcohol/Tobacco Enforcement Specialist II                   NaN   \n",
       "\n",
       "     Date First Hired  \n",
       "0           9/22/1986  \n",
       "1           9/12/1988  \n",
       "2          11/19/1989  \n",
       "3            5/5/2014  \n",
       "4            3/5/2007  \n",
       "...               ...  \n",
       "9223        11/3/2015  \n",
       "9224       11/28/1988  \n",
       "9225        4/30/2001  \n",
       "9226         9/5/2006  \n",
       "9227        1/30/2012  \n",
       "\n",
       "[9228 rows x 12 columns]"
      ]
     },
     "execution_count": 13,
     "metadata": {},
     "output_type": "execute_result"
    }
   ],
   "source": [
    "emp"
   ]
  },
  {
   "cell_type": "markdown",
   "metadata": {},
   "source": [
    "#### Checking data types"
   ]
  },
  {
   "cell_type": "code",
   "execution_count": 14,
   "metadata": {},
   "outputs": [
    {
     "data": {
      "text/plain": [
       "Full Name                   object\n",
       "Gender                      object\n",
       "Current Annual Salary      float64\n",
       "2016 Gross Pay Received    float64\n",
       "2016 Overtime Pay          float64\n",
       "Department                  object\n",
       "Department Name             object\n",
       "Division                    object\n",
       "Assignment Category         object\n",
       "Employee Position Title     object\n",
       "Underfilled Job Title       object\n",
       "Date First Hired            object\n",
       "dtype: object"
      ]
     },
     "execution_count": 14,
     "metadata": {},
     "output_type": "execute_result"
    }
   ],
   "source": [
    "emp.dtypes"
   ]
  },
  {
   "cell_type": "markdown",
   "metadata": {},
   "source": [
    "#### Finding the no.of unique values present for each column of dataset.so,It will be easy to analyze the data.By using nunique() we can find the unique values."
   ]
  },
  {
   "cell_type": "code",
   "execution_count": 15,
   "metadata": {},
   "outputs": [
    {
     "data": {
      "text/plain": [
       "Full Name                  9222\n",
       "Gender                        2\n",
       "Current Annual Salary      3403\n",
       "2016 Gross Pay Received    8977\n",
       "2016 Overtime Pay          6176\n",
       "Department                   37\n",
       "Department Name              37\n",
       "Division                    694\n",
       "Assignment Category           2\n",
       "Employee Position Title     385\n",
       "Underfilled Job Title        84\n",
       "Date First Hired           2264\n",
       "dtype: int64"
      ]
     },
     "execution_count": 15,
     "metadata": {},
     "output_type": "execute_result"
    }
   ],
   "source": [
    "empdet.nunique()"
   ]
  },
  {
   "cell_type": "markdown",
   "metadata": {},
   "source": [
    "#### Finding the no.of missing values in each column of the dataset.By using dataframe.isnull().sum() we can find the sum of missing values"
   ]
  },
  {
   "cell_type": "code",
   "execution_count": 16,
   "metadata": {},
   "outputs": [
    {
     "data": {
      "text/plain": [
       "Full Name                     0\n",
       "Gender                       17\n",
       "Current Annual Salary         0\n",
       "2016 Gross Pay Received     100\n",
       "2016 Overtime Pay          2917\n",
       "Department                    0\n",
       "Department Name               0\n",
       "Division                      0\n",
       "Assignment Category           0\n",
       "Employee Position Title       0\n",
       "Underfilled Job Title      8135\n",
       "Date First Hired              0\n",
       "dtype: int64"
      ]
     },
     "execution_count": 16,
     "metadata": {},
     "output_type": "execute_result"
    }
   ],
   "source": [
    "empdet.isnull().sum()"
   ]
  },
  {
   "cell_type": "markdown",
   "metadata": {},
   "source": [
    "#### Replacing  \"NAN\" for all missing values in the dataset"
   ]
  },
  {
   "cell_type": "code",
   "execution_count": 17,
   "metadata": {},
   "outputs": [
    {
     "data": {
      "text/html": [
       "<div>\n",
       "<style scoped>\n",
       "    .dataframe tbody tr th:only-of-type {\n",
       "        vertical-align: middle;\n",
       "    }\n",
       "\n",
       "    .dataframe tbody tr th {\n",
       "        vertical-align: top;\n",
       "    }\n",
       "\n",
       "    .dataframe thead th {\n",
       "        text-align: right;\n",
       "    }\n",
       "</style>\n",
       "<table border=\"1\" class=\"dataframe\">\n",
       "  <thead>\n",
       "    <tr style=\"text-align: right;\">\n",
       "      <th></th>\n",
       "      <th>Full Name</th>\n",
       "      <th>Gender</th>\n",
       "      <th>Current Annual Salary</th>\n",
       "      <th>2016 Gross Pay Received</th>\n",
       "      <th>2016 Overtime Pay</th>\n",
       "      <th>Department</th>\n",
       "      <th>Department Name</th>\n",
       "      <th>Division</th>\n",
       "      <th>Assignment Category</th>\n",
       "      <th>Employee Position Title</th>\n",
       "      <th>Underfilled Job Title</th>\n",
       "      <th>Date First Hired</th>\n",
       "    </tr>\n",
       "  </thead>\n",
       "  <tbody>\n",
       "    <tr>\n",
       "      <td>0</td>\n",
       "      <td>Aarhus, Pam J.</td>\n",
       "      <td>F</td>\n",
       "      <td>69222.18</td>\n",
       "      <td>71225.98</td>\n",
       "      <td>416.10</td>\n",
       "      <td>POL</td>\n",
       "      <td>Department of Police</td>\n",
       "      <td>MSB Information Mgmt and Tech Division Records...</td>\n",
       "      <td>Fulltime-Regular</td>\n",
       "      <td>Office Services Coordinator</td>\n",
       "      <td>NaN</td>\n",
       "      <td>9/22/1986</td>\n",
       "    </tr>\n",
       "    <tr>\n",
       "      <td>1</td>\n",
       "      <td>Aaron, David J.</td>\n",
       "      <td>M</td>\n",
       "      <td>97392.47</td>\n",
       "      <td>103088.48</td>\n",
       "      <td>3326.19</td>\n",
       "      <td>POL</td>\n",
       "      <td>Department of Police</td>\n",
       "      <td>ISB Major Crimes Division Fugitive Section</td>\n",
       "      <td>Fulltime-Regular</td>\n",
       "      <td>Master Police Officer</td>\n",
       "      <td>NaN</td>\n",
       "      <td>9/12/1988</td>\n",
       "    </tr>\n",
       "    <tr>\n",
       "      <td>2</td>\n",
       "      <td>Aaron, Marsha M.</td>\n",
       "      <td>F</td>\n",
       "      <td>104717.28</td>\n",
       "      <td>107000.24</td>\n",
       "      <td>1353.32</td>\n",
       "      <td>HHS</td>\n",
       "      <td>Department of Health and Human Services</td>\n",
       "      <td>Adult Protective and Case Management Services</td>\n",
       "      <td>Fulltime-Regular</td>\n",
       "      <td>Social Worker IV</td>\n",
       "      <td>NaN</td>\n",
       "      <td>11/19/1989</td>\n",
       "    </tr>\n",
       "    <tr>\n",
       "      <td>3</td>\n",
       "      <td>Ababio, Godfred A.</td>\n",
       "      <td>M</td>\n",
       "      <td>52734.57</td>\n",
       "      <td>57819.04</td>\n",
       "      <td>3423.07</td>\n",
       "      <td>COR</td>\n",
       "      <td>Correction and Rehabilitation</td>\n",
       "      <td>PRRS Facility and Security</td>\n",
       "      <td>Fulltime-Regular</td>\n",
       "      <td>Resident Supervisor II</td>\n",
       "      <td>NaN</td>\n",
       "      <td>5/5/2014</td>\n",
       "    </tr>\n",
       "    <tr>\n",
       "      <td>4</td>\n",
       "      <td>Ababu, Essayas</td>\n",
       "      <td>M</td>\n",
       "      <td>93396.00</td>\n",
       "      <td>95815.17</td>\n",
       "      <td>NaN</td>\n",
       "      <td>HCA</td>\n",
       "      <td>Department of Housing and Community Affairs</td>\n",
       "      <td>Affordable Housing Programs</td>\n",
       "      <td>Fulltime-Regular</td>\n",
       "      <td>Planning Specialist III</td>\n",
       "      <td>NaN</td>\n",
       "      <td>3/5/2007</td>\n",
       "    </tr>\n",
       "    <tr>\n",
       "      <td>...</td>\n",
       "      <td>...</td>\n",
       "      <td>...</td>\n",
       "      <td>...</td>\n",
       "      <td>...</td>\n",
       "      <td>...</td>\n",
       "      <td>...</td>\n",
       "      <td>...</td>\n",
       "      <td>...</td>\n",
       "      <td>...</td>\n",
       "      <td>...</td>\n",
       "      <td>...</td>\n",
       "      <td>...</td>\n",
       "    </tr>\n",
       "    <tr>\n",
       "      <td>9223</td>\n",
       "      <td>Zurita, Justina</td>\n",
       "      <td>F</td>\n",
       "      <td>72094.53</td>\n",
       "      <td>58154.47</td>\n",
       "      <td>NaN</td>\n",
       "      <td>HHS</td>\n",
       "      <td>Department of Health and Human Services</td>\n",
       "      <td>School Based Health Centers</td>\n",
       "      <td>Fulltime-Regular</td>\n",
       "      <td>Community Health Nurse II</td>\n",
       "      <td>NaN</td>\n",
       "      <td>11/3/2015</td>\n",
       "    </tr>\n",
       "    <tr>\n",
       "      <td>9224</td>\n",
       "      <td>Zuspan, Diane M.</td>\n",
       "      <td>F</td>\n",
       "      <td>169543.85</td>\n",
       "      <td>173173.01</td>\n",
       "      <td>956.97</td>\n",
       "      <td>FRS</td>\n",
       "      <td>Fire and Rescue Services</td>\n",
       "      <td>Human Resources Division</td>\n",
       "      <td>Fulltime-Regular</td>\n",
       "      <td>Fire/Rescue Division Chief</td>\n",
       "      <td>NaN</td>\n",
       "      <td>11/28/1988</td>\n",
       "    </tr>\n",
       "    <tr>\n",
       "      <td>9225</td>\n",
       "      <td>Zwerdling, David</td>\n",
       "      <td>M</td>\n",
       "      <td>102736.52</td>\n",
       "      <td>104238.18</td>\n",
       "      <td>NaN</td>\n",
       "      <td>HHS</td>\n",
       "      <td>Department of Health and Human Services</td>\n",
       "      <td>Child and Adolescent Mental Health Clinic Serv...</td>\n",
       "      <td>Parttime-Regular</td>\n",
       "      <td>Medical Doctor IV - Psychiatrist</td>\n",
       "      <td>NaN</td>\n",
       "      <td>4/30/2001</td>\n",
       "    </tr>\n",
       "    <tr>\n",
       "      <td>9226</td>\n",
       "      <td>Zyontz, Jeffrey L.</td>\n",
       "      <td>M</td>\n",
       "      <td>153747.50</td>\n",
       "      <td>149105.25</td>\n",
       "      <td>NaN</td>\n",
       "      <td>CCL</td>\n",
       "      <td>County Council</td>\n",
       "      <td>Council Central Staff</td>\n",
       "      <td>Fulltime-Regular</td>\n",
       "      <td>Manager II</td>\n",
       "      <td>NaN</td>\n",
       "      <td>9/5/2006</td>\n",
       "    </tr>\n",
       "    <tr>\n",
       "      <td>9227</td>\n",
       "      <td>Zywiolek, Tim R.</td>\n",
       "      <td>M</td>\n",
       "      <td>75484.08</td>\n",
       "      <td>74975.53</td>\n",
       "      <td>NaN</td>\n",
       "      <td>DLC</td>\n",
       "      <td>Department of Liquor Control</td>\n",
       "      <td>Licensure, Regulation and Education</td>\n",
       "      <td>Fulltime-Regular</td>\n",
       "      <td>Alcohol/Tobacco Enforcement Specialist II</td>\n",
       "      <td>NaN</td>\n",
       "      <td>1/30/2012</td>\n",
       "    </tr>\n",
       "  </tbody>\n",
       "</table>\n",
       "<p>9228 rows × 12 columns</p>\n",
       "</div>"
      ],
      "text/plain": [
       "               Full Name Gender  Current Annual Salary  \\\n",
       "0         Aarhus, Pam J.      F               69222.18   \n",
       "1        Aaron, David J.      M               97392.47   \n",
       "2       Aaron, Marsha M.      F              104717.28   \n",
       "3     Ababio, Godfred A.      M               52734.57   \n",
       "4         Ababu, Essayas      M               93396.00   \n",
       "...                  ...    ...                    ...   \n",
       "9223     Zurita, Justina      F               72094.53   \n",
       "9224    Zuspan, Diane M.      F              169543.85   \n",
       "9225    Zwerdling, David      M              102736.52   \n",
       "9226  Zyontz, Jeffrey L.      M              153747.50   \n",
       "9227    Zywiolek, Tim R.      M               75484.08   \n",
       "\n",
       "      2016 Gross Pay Received  2016 Overtime Pay Department  \\\n",
       "0                    71225.98             416.10        POL   \n",
       "1                   103088.48            3326.19        POL   \n",
       "2                   107000.24            1353.32        HHS   \n",
       "3                    57819.04            3423.07        COR   \n",
       "4                    95815.17                NaN        HCA   \n",
       "...                       ...                ...        ...   \n",
       "9223                 58154.47                NaN        HHS   \n",
       "9224                173173.01             956.97        FRS   \n",
       "9225                104238.18                NaN        HHS   \n",
       "9226                149105.25                NaN        CCL   \n",
       "9227                 74975.53                NaN        DLC   \n",
       "\n",
       "                                  Department Name  \\\n",
       "0                            Department of Police   \n",
       "1                            Department of Police   \n",
       "2         Department of Health and Human Services   \n",
       "3                   Correction and Rehabilitation   \n",
       "4     Department of Housing and Community Affairs   \n",
       "...                                           ...   \n",
       "9223      Department of Health and Human Services   \n",
       "9224                     Fire and Rescue Services   \n",
       "9225      Department of Health and Human Services   \n",
       "9226                               County Council   \n",
       "9227                 Department of Liquor Control   \n",
       "\n",
       "                                               Division Assignment Category  \\\n",
       "0     MSB Information Mgmt and Tech Division Records...    Fulltime-Regular   \n",
       "1            ISB Major Crimes Division Fugitive Section    Fulltime-Regular   \n",
       "2         Adult Protective and Case Management Services    Fulltime-Regular   \n",
       "3                            PRRS Facility and Security    Fulltime-Regular   \n",
       "4                           Affordable Housing Programs    Fulltime-Regular   \n",
       "...                                                 ...                 ...   \n",
       "9223                        School Based Health Centers    Fulltime-Regular   \n",
       "9224                           Human Resources Division    Fulltime-Regular   \n",
       "9225  Child and Adolescent Mental Health Clinic Serv...    Parttime-Regular   \n",
       "9226                              Council Central Staff    Fulltime-Regular   \n",
       "9227                Licensure, Regulation and Education    Fulltime-Regular   \n",
       "\n",
       "                        Employee Position Title Underfilled Job Title  \\\n",
       "0                   Office Services Coordinator                   NaN   \n",
       "1                         Master Police Officer                   NaN   \n",
       "2                              Social Worker IV                   NaN   \n",
       "3                        Resident Supervisor II                   NaN   \n",
       "4                       Planning Specialist III                   NaN   \n",
       "...                                         ...                   ...   \n",
       "9223                  Community Health Nurse II                   NaN   \n",
       "9224                 Fire/Rescue Division Chief                   NaN   \n",
       "9225           Medical Doctor IV - Psychiatrist                   NaN   \n",
       "9226                                 Manager II                   NaN   \n",
       "9227  Alcohol/Tobacco Enforcement Specialist II                   NaN   \n",
       "\n",
       "     Date First Hired  \n",
       "0           9/22/1986  \n",
       "1           9/12/1988  \n",
       "2          11/19/1989  \n",
       "3            5/5/2014  \n",
       "4            3/5/2007  \n",
       "...               ...  \n",
       "9223        11/3/2015  \n",
       "9224       11/28/1988  \n",
       "9225        4/30/2001  \n",
       "9226         9/5/2006  \n",
       "9227        1/30/2012  \n",
       "\n",
       "[9228 rows x 12 columns]"
      ]
     },
     "execution_count": 17,
     "metadata": {},
     "output_type": "execute_result"
    }
   ],
   "source": [
    "empdet=empdet.replace(to_replace =\"NAN\", value =np.nan)\n",
    "empdet=empdet.fillna(np.nan)\n",
    "empdet"
   ]
  },
  {
   "cell_type": "markdown",
   "metadata": {},
   "source": [
    "#### After finding the datatypes of each column, converting the datatypes for columns.From unique values we can convert some columns into categorical type by using dataframe['column name']=dataframe['column name'].astype('category')"
   ]
  },
  {
   "cell_type": "code",
   "execution_count": 18,
   "metadata": {},
   "outputs": [],
   "source": [
    "empdet['Gender'] = empdet['Gender'].astype('category')\n",
    "empdet['Assignment Category'] = empdet['Assignment Category'].astype('category')"
   ]
  },
  {
   "cell_type": "markdown",
   "metadata": {},
   "source": [
    "#### After changing for confirmation we can check the datatypes of that columns individually."
   ]
  },
  {
   "cell_type": "code",
   "execution_count": 19,
   "metadata": {},
   "outputs": [
    {
     "data": {
      "text/plain": [
       "CategoricalDtype(categories=['F', 'M'], ordered=False)"
      ]
     },
     "execution_count": 19,
     "metadata": {},
     "output_type": "execute_result"
    }
   ],
   "source": [
    "empdet['Gender'].dtype"
   ]
  },
  {
   "cell_type": "code",
   "execution_count": 20,
   "metadata": {},
   "outputs": [
    {
     "data": {
      "text/plain": [
       "CategoricalDtype(categories=['Fulltime-Regular', 'Parttime-Regular'], ordered=False)"
      ]
     },
     "execution_count": 20,
     "metadata": {},
     "output_type": "execute_result"
    }
   ],
   "source": [
    "empdet['Assignment Category'].dtype"
   ]
  },
  {
   "cell_type": "markdown",
   "metadata": {},
   "source": [
    "#### https://stackoverflow.com/questions/48511484/data-type-conversion-error-valueerror-cannot-convert-non-finite-values-na-or -->BY this source I found how to convert datatypes of non-finite values present in the object column to int datatype"
   ]
  },
  {
   "cell_type": "code",
   "execution_count": 21,
   "metadata": {},
   "outputs": [
    {
     "data": {
      "text/plain": [
       "dtype('int32')"
      ]
     },
     "execution_count": 21,
     "metadata": {},
     "output_type": "execute_result"
    }
   ],
   "source": [
    "empdet[['Current Annual Salary']] = empdet[['Current Annual Salary']].fillna(0)\n",
    "empdet[['Current Annual Salary']] = empdet[['Current Annual Salary']].astype(int)\n",
    "empdet['Current Annual Salary'].dtype"
   ]
  },
  {
   "cell_type": "code",
   "execution_count": 22,
   "metadata": {},
   "outputs": [
    {
     "data": {
      "text/plain": [
       "dtype('int32')"
      ]
     },
     "execution_count": 22,
     "metadata": {},
     "output_type": "execute_result"
    }
   ],
   "source": [
    "empdet[['2016 Gross Pay Received']] = empdet[['2016 Gross Pay Received']].fillna(0)\n",
    "empdet[['2016 Gross Pay Received']] = empdet[['2016 Gross Pay Received']].astype(int)\n",
    "empdet['2016 Gross Pay Received'].dtype"
   ]
  },
  {
   "cell_type": "code",
   "execution_count": 23,
   "metadata": {},
   "outputs": [
    {
     "data": {
      "text/plain": [
       "dtype('int32')"
      ]
     },
     "execution_count": 23,
     "metadata": {},
     "output_type": "execute_result"
    }
   ],
   "source": [
    "empdet[['2016 Overtime Pay']] = empdet[['2016 Overtime Pay']].fillna(0)\n",
    "empdet[['2016 Overtime Pay']] = empdet[['2016 Overtime Pay']].astype(int)\n",
    "empdet['2016 Overtime Pay'].dtype"
   ]
  },
  {
   "cell_type": "markdown",
   "metadata": {},
   "source": [
    "#### After changing required datatypes we can check the datatypes once for all columns in the dataset"
   ]
  },
  {
   "cell_type": "code",
   "execution_count": 24,
   "metadata": {},
   "outputs": [
    {
     "data": {
      "text/plain": [
       "Full Name                    object\n",
       "Gender                     category\n",
       "Current Annual Salary         int32\n",
       "2016 Gross Pay Received       int32\n",
       "2016 Overtime Pay             int32\n",
       "Department                   object\n",
       "Department Name              object\n",
       "Division                     object\n",
       "Assignment Category        category\n",
       "Employee Position Title      object\n",
       "Underfilled Job Title        object\n",
       "Date First Hired             object\n",
       "dtype: object"
      ]
     },
     "execution_count": 24,
     "metadata": {},
     "output_type": "execute_result"
    }
   ],
   "source": [
    "empdet.dtypes"
   ]
  },
  {
   "cell_type": "markdown",
   "metadata": {},
   "source": [
    "#### Histogram representation "
   ]
  },
  {
   "cell_type": "code",
   "execution_count": 26,
   "metadata": {},
   "outputs": [
    {
     "data": {
      "image/png": "[encoded data removed]",
      "text/plain": [
       "<Figure size 432x288 with 4 Axes>"
      ]
     },
     "metadata": {
      "needs_background": "light"
     },
     "output_type": "display_data"
    }
   ],
   "source": [
    "empdet.hist()\n",
    "plt.show()"
   ]
  },
  {
   "cell_type": "markdown",
   "metadata": {},
   "source": [
    "#### To get the details of how many employee's working in each department"
   ]
  },
  {
   "cell_type": "code",
   "execution_count": 27,
   "metadata": {},
   "outputs": [
    {
     "data": {
      "text/plain": [
       "Department of Police                                    1844\n",
       "Department of Health and Human Services                 1556\n",
       "Fire and Rescue Services                                1311\n",
       "Department of Transportation                            1226\n",
       "Correction and Rehabilitation                            482\n",
       "Department of Liquor Control                             408\n",
       "Department of General Services                           404\n",
       "Department of Public Libraries                           375\n",
       "Department of Permitting Services                        221\n",
       "Sheriff's Office                                         180\n",
       "Department of Environmental Protection                   160\n",
       "Department of Technology Services                        145\n",
       "Department of Recreation                                 124\n",
       "Department of Finance                                    115\n",
       "County Council                                            89\n",
       "Community Engagement Cluster                              74\n",
       "Department of Housing and Community Affairs               74\n",
       "County Attorney's Office                                  72\n",
       "Office of Human Resources                                 65\n",
       "Office of Public Information                              58\n",
       "Offices of the County Executive                           36\n",
       "Office of Management and Budget                           31\n",
       "Office of Procurement                                     30\n",
       "Community Use of Public Facilities                        27\n",
       "Board of Elections                                        26\n",
       "Office of Consumer Protection                             16\n",
       "Non-Departmental Account                                  14\n",
       "Office of Emergency Management and Homeland Security      12\n",
       "Office of Agriculture                                     11\n",
       "Office of Legislative Oversight                           11\n",
       "Office of Human Rights                                     8\n",
       "Office of the Inspector General                            6\n",
       "Office of Intergovernmental Relations Department           5\n",
       "Office of Zoning and Administrative Hearings               4\n",
       "Ethics Commission                                          3\n",
       "Board of Appeals Department                                3\n",
       "Merit System Protection Board Department                   2\n",
       "Name: Department Name, dtype: int64"
      ]
     },
     "execution_count": 27,
     "metadata": {},
     "output_type": "execute_result"
    }
   ],
   "source": [
    "empdet['Department Name'].value_counts()"
   ]
  },
  {
   "cell_type": "markdown",
   "metadata": {},
   "source": [
    "#### Graphical representation of number of employees in each department"
   ]
  },
  {
   "cell_type": "code",
   "execution_count": 28,
   "metadata": {},
   "outputs": [
    {
     "data": {
      "image/png": "[encoded data removed]",
      "text/plain": [
       "<Figure size 432x288 with 1 Axes>"
      ]
     },
     "metadata": {
      "needs_background": "light"
     },
     "output_type": "display_data"
    }
   ],
   "source": [
    "_=empdet['Department'].value_counts().plot(kind=\"bar\")\n",
    "_=plt.ylabel('Emp Count',fontsize=15)\n",
    "_=plt.xlabel('Dep Name',fontsize=20)\n",
    "_=plt.title('Number of Employees in each department')\n"
   ]
  },
  {
   "cell_type": "markdown",
   "metadata": {},
   "source": [
    "#### Scatter plot of Fulltime and parttime category with their Annual Salary"
   ]
  },
  {
   "cell_type": "code",
   "execution_count": 29,
   "metadata": {},
   "outputs": [
    {
     "data": {
      "text/plain": [
       "Text(0, 0.5, 'Assignment Category')"
      ]
     },
     "execution_count": 29,
     "metadata": {},
     "output_type": "execute_result"
    },
    {
     "data": {
      "image/png": "[encoded data removed]",
      "text/plain": [
       "<Figure size 432x288 with 1 Axes>"
      ]
     },
     "metadata": {
      "needs_background": "light"
     },
     "output_type": "display_data"
    }
   ],
   "source": [
    "x=empdet['Current Annual Salary']\n",
    "y=empdet['Assignment Category']\n",
    "plt.scatter(x, y,alpha=0.5)\n",
    "plt.xlabel('Current Annual Salary in dollars')\n",
    "plt.ylabel('Assignment Category')"
   ]
  },
  {
   "cell_type": "markdown",
   "metadata": {},
   "source": [
    "#### Number of Fulltime Employee and Parttime Employee"
   ]
  },
  {
   "cell_type": "code",
   "execution_count": 30,
   "metadata": {},
   "outputs": [
    {
     "data": {
      "text/plain": [
       "Fulltime-Regular    8394\n",
       "Parttime-Regular     834\n",
       "Name: Assignment Category, dtype: int64"
      ]
     },
     "execution_count": 30,
     "metadata": {},
     "output_type": "execute_result"
    }
   ],
   "source": [
    "empdet['Assignment Category'].value_counts()"
   ]
  },
  {
   "cell_type": "markdown",
   "metadata": {},
   "source": [
    "#### This shows the number of female and male employees along with the department and current annual salary from which we can visualize that in almost all the departments, number of Male employees are more than the Female Employees "
   ]
  },
  {
   "cell_type": "code",
   "execution_count": 31,
   "metadata": {},
   "outputs": [
    {
     "data": {
      "image/png": "[encoded data removed]",
      "text/plain": [
       "<Figure size 1152x1152 with 1 Axes>"
      ]
     },
     "metadata": {
      "needs_background": "light"
     },
     "output_type": "display_data"
    },
    {
     "data": {
      "image/png": "[encoded data removed]",
      "text/plain": [
       "<Figure size 404.875x360 with 1 Axes>"
      ]
     },
     "metadata": {
      "needs_background": "light"
     },
     "output_type": "display_data"
    }
   ],
   "source": [
    "fig, ax = plt.subplots(figsize = (16,16))\n",
    "sns.catplot(x=\"Department\", y=\"Current Annual Salary\", hue=\"Gender\",\n",
    "            kind=\"bar\", data=empdet, ax=ax);"
   ]
  },
  {
   "cell_type": "markdown",
   "metadata": {},
   "source": [
    "#### This shows Fulltime employees are more than parttime employees"
   ]
  },
  {
   "cell_type": "code",
   "execution_count": 32,
   "metadata": {},
   "outputs": [
    {
     "data": {
      "image/png": "[encoded data removed]",
      "text/plain": [
       "<Figure size 432x288 with 1 Axes>"
      ]
     },
     "metadata": {
      "needs_background": "light"
     },
     "output_type": "display_data"
    }
   ],
   "source": [
    "_=empdet['Assignment Category'].value_counts().plot(kind=\"bar\")\n",
    "_=plt.ylabel('Emp Count',fontsize=15)\n",
    "_=plt.xlabel('Dep Name',fontsize=20)\n",
    "_=plt.title('Number of Employees in each category')\n"
   ]
  },
  {
   "cell_type": "code",
   "execution_count": 33,
   "metadata": {},
   "outputs": [
    {
     "data": {
      "image/png": "[encoded data removed]",
      "text/plain": [
       "<Figure size 432x288 with 1 Axes>"
      ]
     },
     "metadata": {
      "needs_background": "light"
     },
     "output_type": "display_data"
    }
   ],
   "source": [
    "plt.plot(num=None, figsize=(8, 6), dpi=80, facecolor='w', edgecolor='k')\n",
    "_=empdet['Assignment Category'].value_counts().plot(kind=\"bar\")\n",
    "_=plt.ylabel('Current Annual Salary',fontsize=11)"
   ]
  },
  {
   "cell_type": "markdown",
   "metadata": {},
   "source": [
    "#### The below graph shows the Annual Salary, Gross Pay and Overtime Pay according to each department"
   ]
  },
  {
   "cell_type": "code",
   "execution_count": 34,
   "metadata": {},
   "outputs": [
    {
     "data": {
      "image/png": "[encoded data removed]",
      "text/plain": [
       "<Figure size 1440x576 with 1 Axes>"
      ]
     },
     "metadata": {
      "needs_background": "light"
     },
     "output_type": "display_data"
    }
   ],
   "source": [
    "bx = empdet.groupby(\"Department\").sum().sort_values('Current Annual Salary', ascending=True).plot( title =\"Annual Salary with respect to each Department\", figsize=(20, 8), legend=True, fontsize=12)\n",
    "bx.set_xlabel(\"Department Name\", fontsize=12)\n",
    "bx.set_ylabel(\"Current Annual Salary\", fontsize=12)\n",
    "plt.show()"
   ]
  },
  {
   "cell_type": "markdown",
   "metadata": {},
   "source": [
    "#### Here I am finding the employee who is getting paid high"
   ]
  },
  {
   "cell_type": "code",
   "execution_count": 35,
   "metadata": {},
   "outputs": [
    {
     "data": {
      "text/html": [
       "<div>\n",
       "<style scoped>\n",
       "    .dataframe tbody tr th:only-of-type {\n",
       "        vertical-align: middle;\n",
       "    }\n",
       "\n",
       "    .dataframe tbody tr th {\n",
       "        vertical-align: top;\n",
       "    }\n",
       "\n",
       "    .dataframe thead th {\n",
       "        text-align: right;\n",
       "    }\n",
       "</style>\n",
       "<table border=\"1\" class=\"dataframe\">\n",
       "  <thead>\n",
       "    <tr style=\"text-align: right;\">\n",
       "      <th></th>\n",
       "      <th>Full Name</th>\n",
       "      <th>Gender</th>\n",
       "      <th>Current Annual Salary</th>\n",
       "      <th>2016 Gross Pay Received</th>\n",
       "      <th>2016 Overtime Pay</th>\n",
       "      <th>Department</th>\n",
       "      <th>Department Name</th>\n",
       "      <th>Division</th>\n",
       "      <th>Assignment Category</th>\n",
       "      <th>Employee Position Title</th>\n",
       "      <th>Underfilled Job Title</th>\n",
       "      <th>Date First Hired</th>\n",
       "    </tr>\n",
       "  </thead>\n",
       "  <tbody>\n",
       "    <tr>\n",
       "      <td>2672</td>\n",
       "      <td>Firestine, Timothy</td>\n",
       "      <td>M</td>\n",
       "      <td>303091</td>\n",
       "      <td>313700</td>\n",
       "      <td>0</td>\n",
       "      <td>CEX</td>\n",
       "      <td>Offices of the County Executive</td>\n",
       "      <td>Chief Administrative Officer's Office</td>\n",
       "      <td>Fulltime-Regular</td>\n",
       "      <td>Chief Administrative Officer</td>\n",
       "      <td>NaN</td>\n",
       "      <td>11/26/1979</td>\n",
       "    </tr>\n",
       "  </tbody>\n",
       "</table>\n",
       "</div>"
      ],
      "text/plain": [
       "               Full Name Gender  Current Annual Salary  \\\n",
       "2672  Firestine, Timothy      M                 303091   \n",
       "\n",
       "      2016 Gross Pay Received  2016 Overtime Pay Department  \\\n",
       "2672                   313700                  0        CEX   \n",
       "\n",
       "                      Department Name                               Division  \\\n",
       "2672  Offices of the County Executive  Chief Administrative Officer's Office   \n",
       "\n",
       "     Assignment Category       Employee Position Title Underfilled Job Title  \\\n",
       "2672    Fulltime-Regular  Chief Administrative Officer                   NaN   \n",
       "\n",
       "     Date First Hired  \n",
       "2672       11/26/1979  "
      ]
     },
     "execution_count": 35,
     "metadata": {},
     "output_type": "execute_result"
    }
   ],
   "source": [
    "empdet[empdet['Current Annual Salary']==empdet['Current Annual Salary'].max()]"
   ]
  },
  {
   "cell_type": "markdown",
   "metadata": {},
   "source": [
    "#### Here I am finding the employee who is getting paid high for the Overtime"
   ]
  },
  {
   "cell_type": "code",
   "execution_count": 36,
   "metadata": {},
   "outputs": [
    {
     "data": {
      "text/html": [
       "<div>\n",
       "<style scoped>\n",
       "    .dataframe tbody tr th:only-of-type {\n",
       "        vertical-align: middle;\n",
       "    }\n",
       "\n",
       "    .dataframe tbody tr th {\n",
       "        vertical-align: top;\n",
       "    }\n",
       "\n",
       "    .dataframe thead th {\n",
       "        text-align: right;\n",
       "    }\n",
       "</style>\n",
       "<table border=\"1\" class=\"dataframe\">\n",
       "  <thead>\n",
       "    <tr style=\"text-align: right;\">\n",
       "      <th></th>\n",
       "      <th>Full Name</th>\n",
       "      <th>Gender</th>\n",
       "      <th>Current Annual Salary</th>\n",
       "      <th>2016 Gross Pay Received</th>\n",
       "      <th>2016 Overtime Pay</th>\n",
       "      <th>Department</th>\n",
       "      <th>Department Name</th>\n",
       "      <th>Division</th>\n",
       "      <th>Assignment Category</th>\n",
       "      <th>Employee Position Title</th>\n",
       "      <th>Underfilled Job Title</th>\n",
       "      <th>Date First Hired</th>\n",
       "    </tr>\n",
       "  </thead>\n",
       "  <tbody>\n",
       "    <tr>\n",
       "      <td>8741</td>\n",
       "      <td>Watkins, Eric J.</td>\n",
       "      <td>M</td>\n",
       "      <td>94277</td>\n",
       "      <td>222279</td>\n",
       "      <td>125244</td>\n",
       "      <td>COR</td>\n",
       "      <td>Correction and Rehabilitation</td>\n",
       "      <td>DS MCCF Unit 1 Security</td>\n",
       "      <td>Fulltime-Regular</td>\n",
       "      <td>Correctional Supervisor (Sergeant)</td>\n",
       "      <td>NaN</td>\n",
       "      <td>7/2/1995</td>\n",
       "    </tr>\n",
       "  </tbody>\n",
       "</table>\n",
       "</div>"
      ],
      "text/plain": [
       "             Full Name Gender  Current Annual Salary  2016 Gross Pay Received  \\\n",
       "8741  Watkins, Eric J.      M                  94277                   222279   \n",
       "\n",
       "      2016 Overtime Pay Department                Department Name  \\\n",
       "8741             125244        COR  Correction and Rehabilitation   \n",
       "\n",
       "                     Division Assignment Category  \\\n",
       "8741  DS MCCF Unit 1 Security    Fulltime-Regular   \n",
       "\n",
       "                 Employee Position Title Underfilled Job Title  \\\n",
       "8741  Correctional Supervisor (Sergeant)                   NaN   \n",
       "\n",
       "     Date First Hired  \n",
       "8741         7/2/1995  "
      ]
     },
     "execution_count": 36,
     "metadata": {},
     "output_type": "execute_result"
    }
   ],
   "source": [
    "empdet[empdet['2016 Overtime Pay']==empdet['2016 Overtime Pay'].max()]"
   ]
  },
  {
   "cell_type": "markdown",
   "metadata": {},
   "source": [
    "### Learnings"
   ]
  },
  {
   "cell_type": "markdown",
   "metadata": {},
   "source": [
    "#### I have learned how to approach the process of cleaning the data \n",
    "#### learned Problems in real time data\n",
    "#### learned generating different kinds of graph\n",
    "#### learned how to split columns\n",
    "#### learned how to apply groupby fucntion and generate a graph"
   ]
  }
 ],
 "metadata": {
  "kernelspec": {
   "display_name": "Python 3",
   "language": "python",
   "name": "python3"
  },
  "language_info": {
   "codemirror_mode": {
    "name": "ipython",
    "version": 3
   },
   "file_extension": ".py",
   "mimetype": "text/x-python",
   "name": "python",
   "nbconvert_exporter": "python",
   "pygments_lexer": "ipython3",
   "version": "3.7.4"
  }
 },
 "nbformat": 4,
 "nbformat_minor": 2
}
