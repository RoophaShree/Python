{
 "cells": [
  {
   "cell_type": "code",
   "execution_count": 1,
   "metadata": {},
   "outputs": [],
   "source": [
    "import pandas as pd\n",
    "import matplotlib.pyplot as plt\n",
    "import numpy as np\n",
    "import random\n",
    "import seaborn as sns"
   ]
  },
  {
   "cell_type": "code",
   "execution_count": 2,
   "metadata": {},
   "outputs": [],
   "source": [
    "def score(k):\n",
    "    if k is True:\n",
    "        assignements=[random.randint(0, 100) for i in range(28)]\n",
    "        quiz=[random.randint(0, 40) for i in range(2)]\n",
    "        projects=[random.randint(0, 100) for i in range(3)]\n",
    "        attendence=[random.randint(0,1) for i in range(15)]\n",
    "    if k is False:\n",
    "        n = int(input(\"Enter number of assignments: \"))\n",
    "        assignements = [int(input('enter marks out of 100 ')) for i in range(n)]\n",
    "        n = int(input(\"Enter number of quizes : \"))\n",
    "        quiz = [int(input('enter marks oyt of 40 ')) for i in range(n)]\n",
    "        n = int(input(\"Enter number of projects : \"))\n",
    "        projects = [int(input('enter marks out of 100 ')) for i in range(n)]\n",
    "        n = int(input(\"Enter number of attendence : \"))\n",
    "        attendence = [int(input('enter only 1:present 0:absent ')) for i in range(n)]\n",
    "\n",
    "    [assignements.append((100*i)/40) for i in quiz] # converting quiz marks to 100 and appending into assignments\n",
    "    \n",
    "    assignements.sort()\n",
    "    finalmark = [30*(sum(assignements[-10:])/10)/100] # 30% marks assignemnt+quiz\n",
    "    \n",
    "    k = [ 20*i/100 for i in projects]\n",
    "    finalmark.append(sum(k)) # (20%) * 3 marks projects\n",
    "    \n",
    "    finalmark.append((10 * (attendence.count(1)/len(attendence))*100)/100) # 10% marks attendence\n",
    "    \n",
    "    return sum(finalmark) # 30% + 60% + 10% = 100%"
   ]
  },
  {
   "cell_type": "code",
   "execution_count": 3,
   "metadata": {},
   "outputs": [
    {
     "name": "stdout",
     "output_type": "stream",
     "text": [
      "minimum score = 31.875 \n",
      "maximum score = 88.16499999999999 \n",
      "average score = 59.727508333333304\n"
     ]
    }
   ],
   "source": [
    "# set K = True for random marks\n",
    "scores=[]\n",
    "for i in range(1000):\n",
    "    scores.append(score(k=True))\n",
    "print(\"minimum score = {} \\nmaximum score = {} \\naverage score = {}\".format(min(scores),max(scores),(sum(scores)/len(scores))))"
   ]
  },
  {
   "cell_type": "code",
   "execution_count": 4,
   "metadata": {
    "scrolled": true
   },
   "outputs": [
    {
     "data": {
      "text/plain": [
       "Text(0, 0.5, 'no of simulations')"
      ]
     },
     "execution_count": 4,
     "metadata": {},
     "output_type": "execute_result"
    },
    {
     "data": {
      "image/png": "[encoded data removed]",
      "text/plain": [
       "<Figure size 432x288 with 1 Axes>"
      ]
     },
     "metadata": {
      "needs_background": "light"
     },
     "output_type": "display_data"
    }
   ],
   "source": [
    "sns.distplot(scores, kde=False, color='blue', bins=100)\n",
    "plt.title('1000 simu marks')\n",
    "plt.xlabel('scored marks')\n",
    "plt.ylabel('no of simulations')"
   ]
  },
  {
   "cell_type": "code",
   "execution_count": null,
   "metadata": {},
   "outputs": [
    {
     "name": "stdout",
     "output_type": "stream",
     "text": [
      "Enter number of assignments: 10\n",
      "enter marks out of 100 100\n",
      "enter marks out of 100 90\n"
     ]
    }
   ],
   "source": [
    "# set K = False for customized marks\n",
    "m = score(k=False)\n",
    "if m>=90:\n",
    "    print(\"scored {} and grade is A\".format(m))\n",
    "elif 80<=m<=89:\n",
    "    print('scored {} and grade is B'.format(m))\n",
    "elif 70<=m<=79:\n",
    "    print('scored {} and grade is C'.format(m))\n",
    "elif 60<=m<=69:\n",
    "    print('scored {} and grade is D'.format(m))\n",
    "elif m<60:\n",
    "    print('scored {} and grade is F'.format(m))"
   ]
  },
  {
   "cell_type": "code",
   "execution_count": 16,
   "metadata": {},
   "outputs": [
    {
     "name": "stdout",
     "output_type": "stream",
     "text": [
      "scored 94.555 and grade is A\n"
     ]
    }
   ],
   "source": []
  }
 ],
 "metadata": {
  "kernelspec": {
   "display_name": "Python 3",
   "language": "python",
   "name": "python3"
  },
  "language_info": {
   "codemirror_mode": {
    "name": "ipython",
    "version": 3
   },
   "file_extension": ".py",
   "mimetype": "text/x-python",
   "name": "python",
   "nbconvert_exporter": "python",
   "pygments_lexer": "ipython3",
   "version": "3.7.4"
  }
 },
 "nbformat": 4,
 "nbformat_minor": 2
}
